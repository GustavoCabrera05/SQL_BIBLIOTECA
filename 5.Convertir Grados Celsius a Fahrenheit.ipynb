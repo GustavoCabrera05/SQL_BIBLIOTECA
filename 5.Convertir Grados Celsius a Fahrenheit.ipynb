{
  "nbformat": 4,
  "nbformat_minor": 0,
  "metadata": {
    "colab": {
      "provenance": [],
      "authorship_tag": "ABX9TyOc9VwHCxw9sqo4Hd1v2WnG",
      "include_colab_link": true
    },
    "kernelspec": {
      "name": "python3",
      "display_name": "Python 3"
    },
    "language_info": {
      "name": "python"
    }
  },
  "cells": [
    {
      "cell_type": "markdown",
      "metadata": {
        "id": "view-in-github",
        "colab_type": "text"
      },
      "source": [
        "<a href=\"https://colab.research.google.com/github/GustavoCabrera05/SQL_BIBLIOTECA/blob/main/5.Convertir%20Grados%20Celsius%20a%20Fahrenheit.ipynb\" target=\"_parent\"><img src=\"https://colab.research.google.com/assets/colab-badge.svg\" alt=\"Open In Colab\"/></a>"
      ]
    },
    {
      "cell_type": "code",
      "execution_count": 3,
      "metadata": {
        "colab": {
          "base_uri": "https://localhost:8080/"
        },
        "id": "7YQ_8h4bZf5D",
        "outputId": "dbf65c6d-a790-437f-c4d8-6d2c61b0560b"
      },
      "outputs": [
        {
          "output_type": "stream",
          "name": "stdout",
          "text": [
            "Hola, este programa convierte grados celsius a grados fahrenheit\n",
            "Ingrese los grados celsius que desea convertir: 28\n",
            "Los grados Fahrenheit son:  82.4\n"
          ]
        }
      ],
      "source": [
        "temp_celsius = 0 #Creación de la variable\n",
        "print (\"Hola, este programa convierte grados celsius a grados fahrenheit\") #Avisamos el objetivo del programa\n",
        "dato_usuario = input (\"Ingrese los grados celsius que desea convertir: \") #Solicitamos al usuario los grados en celsius\n",
        "temp_celsius = float (dato_usuario) #Validación de la información ingresada por el usuario\n",
        "grados_Fahrenheit = (temp_celsius * 9/5 + 32) # Aplicamos la formula de conversión de grados\n",
        "print (\"Los grados Fahrenheit son: \", grados_Fahrenheit) #Imprimimos el resultado\n",
        "\n",
        "\n"
      ]
    },
    {
      "cell_type": "markdown",
      "source": [],
      "metadata": {
        "id": "WNYYYGOIaiBw"
      }
    },
    {
      "cell_type": "markdown",
      "source": [],
      "metadata": {
        "id": "pR6XcKpgavuA"
      }
    },
    {
      "cell_type": "markdown",
      "source": [
        "### Pasos\n",
        "\n",
        "-Crear variable temperatura en grados celsius\n",
        "-le decimos al usuario el objetvio del programa\n",
        "-Solicitar al usuario los grados en celsius\n",
        "-Validación de la información ingresada por el usuario\n",
        "-APlicar la formula\n",
        "-imprimir el resultado"
      ],
      "metadata": {
        "id": "KCuP1xsoakhX"
      }
    },
    {
      "cell_type": "code",
      "source": [],
      "metadata": {
        "id": "hsKRRWsqac4I"
      },
      "execution_count": null,
      "outputs": []
    }
  ]
}